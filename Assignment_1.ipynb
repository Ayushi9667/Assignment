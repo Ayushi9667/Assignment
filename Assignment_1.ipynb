{
 "cells": [
  {
   "cell_type": "code",
   "execution_count": 2,
   "id": "e411a885-4060-4130-b2c9-4c66b8ee6bac",
   "metadata": {},
   "outputs": [],
   "source": [
    "#Q1\n",
    "t=()"
   ]
  },
  {
   "cell_type": "code",
   "execution_count": 3,
   "id": "a984b635-2a58-47eb-8009-fce4c3219da0",
   "metadata": {},
   "outputs": [
    {
     "data": {
      "text/plain": [
       "tuple"
      ]
     },
     "execution_count": 3,
     "metadata": {},
     "output_type": "execute_result"
    }
   ],
   "source": [
    "type(t)"
   ]
  },
  {
   "cell_type": "code",
   "execution_count": 1,
   "id": "c562f8f5-c2c4-4c4d-a36f-88cb74405589",
   "metadata": {},
   "outputs": [],
   "source": [
    "t=(\"ayu\", \"muskan\", 23, True, 43.1, [\"ayushi\", 2, 3+6j, 6.5])"
   ]
  },
  {
   "cell_type": "code",
   "execution_count": 12,
   "id": "d50f2495-521b-42f1-a104-3a109c8ebeb9",
   "metadata": {},
   "outputs": [
    {
     "data": {
      "text/plain": [
       "('ayu', 'muskan', 23, True, 43.1, ['ayushi', 2, (3+6j), 6.5])"
      ]
     },
     "execution_count": 12,
     "metadata": {},
     "output_type": "execute_result"
    }
   ],
   "source": [
    "t"
   ]
  },
  {
   "cell_type": "code",
   "execution_count": null,
   "id": "19bc5d49-5017-4058-9e1b-795fb8843fec",
   "metadata": {},
   "outputs": [],
   "source": [
    "#Q2\n",
    "var1 = ' ' --> str\n",
    "var2 = '[ DS , ML , Python]'  --> str\n",
    "var3 = [ 'DS' , 'ML' , 'Python' ]  --> list\n",
    " var4 = 1 --> int"
   ]
  },
  {
   "cell_type": "code",
   "execution_count": 17,
   "id": "ff924c23-5821-487e-a17e-ea396fc739d0",
   "metadata": {},
   "outputs": [
    {
     "data": {
      "text/plain": [
       "2.0"
      ]
     },
     "execution_count": 17,
     "metadata": {},
     "output_type": "execute_result"
    }
   ],
   "source": [
    "#Q3  Explain the use of the following operators using an example:\n",
    "#(i) / = division operator...gives a floating point value\n",
    "\n",
    "10/5"
   ]
  },
  {
   "cell_type": "code",
   "execution_count": 19,
   "id": "99d38237-1f25-49ad-8f7b-2bf1fc823eae",
   "metadata": {},
   "outputs": [
    {
     "data": {
      "text/plain": [
       "0"
      ]
     },
     "execution_count": 19,
     "metadata": {},
     "output_type": "execute_result"
    }
   ],
   "source": [
    "#(ii) % = modulus operator...gives remainder after division\n",
    " \n",
    "40%8"
   ]
  },
  {
   "cell_type": "code",
   "execution_count": 20,
   "id": "ea2b201a-4975-4124-a424-be8dc75fd1b1",
   "metadata": {},
   "outputs": [
    {
     "data": {
      "text/plain": [
       "2"
      ]
     },
     "execution_count": 20,
     "metadata": {},
     "output_type": "execute_result"
    }
   ],
   "source": [
    "#(iii) // = division operator...gives a whole number\n",
    "\n",
    "10//5"
   ]
  },
  {
   "cell_type": "code",
   "execution_count": 21,
   "id": "5f2d236f-04d4-43c8-9252-e54477f24450",
   "metadata": {},
   "outputs": [
    {
     "data": {
      "text/plain": [
       "8"
      ]
     },
     "execution_count": 21,
     "metadata": {},
     "output_type": "execute_result"
    }
   ],
   "source": [
    "#(iv)  ** = Exponent operator...performs exponential operator\n",
    "\n",
    "2**3"
   ]
  },
  {
   "cell_type": "code",
   "execution_count": 22,
   "id": "86a3ad9a-74ec-4feb-a86d-36d46cebc78f",
   "metadata": {},
   "outputs": [],
   "source": [
    "#Q4. Create a list of length 10 of your choice containing multiple types of data. Using for loop print the element and its data type\n",
    "\n",
    "l= []"
   ]
  },
  {
   "cell_type": "code",
   "execution_count": 23,
   "id": "b214bd54-2ee2-428e-9176-626427d6f7e5",
   "metadata": {},
   "outputs": [
    {
     "data": {
      "text/plain": [
       "list"
      ]
     },
     "execution_count": 23,
     "metadata": {},
     "output_type": "execute_result"
    }
   ],
   "source": [
    "type(l)"
   ]
  },
  {
   "cell_type": "code",
   "execution_count": 36,
   "id": "e93341fc-a760-4d78-b66b-f44ee175d087",
   "metadata": {},
   "outputs": [],
   "source": [
    "l=[23,\"ayu\", 4,6,\"viksit\", 32.1,\"muskan\",7,\"pw\",546,]"
   ]
  },
  {
   "cell_type": "code",
   "execution_count": 37,
   "id": "534c4c4d-7684-47c4-bae8-ca38ce700c01",
   "metadata": {},
   "outputs": [
    {
     "data": {
      "text/plain": [
       "10"
      ]
     },
     "execution_count": 37,
     "metadata": {},
     "output_type": "execute_result"
    }
   ],
   "source": [
    "len(l)"
   ]
  },
  {
   "cell_type": "code",
   "execution_count": 38,
   "id": "9049665e-5a4d-4b0f-9a1f-9265403e0648",
   "metadata": {},
   "outputs": [],
   "source": [
    "l1_num=[]\n",
    "l2_str=[]\n",
    "\n",
    "for i in l :\n",
    "    if type(i) == int or type(i) == float:\n",
    "         l1_num.append(i)\n",
    "    else :\n",
    "         l2_str.append(i)\n",
    "            "
   ]
  },
  {
   "cell_type": "code",
   "execution_count": 39,
   "id": "6d52384a-f7ff-4a83-812a-6504cc9dba09",
   "metadata": {},
   "outputs": [
    {
     "data": {
      "text/plain": [
       "[23, 4, 6, 32.1, 7, 546]"
      ]
     },
     "execution_count": 39,
     "metadata": {},
     "output_type": "execute_result"
    }
   ],
   "source": [
    "l1_num  #int data type"
   ]
  },
  {
   "cell_type": "code",
   "execution_count": 40,
   "id": "42f89881-a4fd-46a7-ad1a-98addc5be161",
   "metadata": {},
   "outputs": [
    {
     "data": {
      "text/plain": [
       "['ayu', 'viksit', 'muskan', 'pw']"
      ]
     },
     "execution_count": 40,
     "metadata": {},
     "output_type": "execute_result"
    }
   ],
   "source": [
    "l2_str  #string data type"
   ]
  },
  {
   "cell_type": "code",
   "execution_count": 4,
   "id": "0567bed7-569e-46ba-89ae-1794a60cd15d",
   "metadata": {},
   "outputs": [
    {
     "name": "stdin",
     "output_type": "stream",
     "text": [
      "enter the value of A 40\n",
      "enter the value of B 5\n"
     ]
    },
    {
     "name": "stdout",
     "output_type": "stream",
     "text": [
      "A is divisible by B\n"
     ]
    }
   ],
   "source": [
    "#Q5. Using a while loop, verify if the number A is purely divisible by number B and if so then how many times it can be divisible.\n",
    "\n",
    "A=int(input(\"enter the value of A\"))\n",
    "B=int(input(\"enter the value of B\"))\n",
    "\n",
    "if A%B ==0:\n",
    "    print(\"A is divisible by B\")\n",
    "else :\n",
    "    print(\"A is not divisible by B\")"
   ]
  },
  {
   "cell_type": "code",
   "execution_count": 1,
   "id": "0d8c5905-ba69-4ebd-8fae-4c8e02dd90a5",
   "metadata": {},
   "outputs": [],
   "source": [
    "#Q6. Create a list containing 25 int type data. Using for loop and if-else condition print if the element is divisible by 3 or not"
   ]
  },
  {
   "cell_type": "code",
   "execution_count": 2,
   "id": "082f4078-ee7d-452d-bce6-77b2654ac7bc",
   "metadata": {},
   "outputs": [],
   "source": [
    "l=[]"
   ]
  },
  {
   "cell_type": "code",
   "execution_count": 3,
   "id": "49c09b32-f526-414b-9f29-96b5121da2f2",
   "metadata": {},
   "outputs": [
    {
     "data": {
      "text/plain": [
       "list"
      ]
     },
     "execution_count": 3,
     "metadata": {},
     "output_type": "execute_result"
    }
   ],
   "source": [
    "type(l)"
   ]
  },
  {
   "cell_type": "code",
   "execution_count": 4,
   "id": "73bc29e2-93e6-45d9-ac2a-5d60857d11b1",
   "metadata": {},
   "outputs": [],
   "source": [
    "l=[2,3,4,5,6,7,8,9,10,11,12,13,14,15,16,17,18,19,20,21,22,23,24,25,26]"
   ]
  },
  {
   "cell_type": "code",
   "execution_count": 5,
   "id": "431e3791-4e79-4a38-b7f6-af2b4249ec32",
   "metadata": {},
   "outputs": [],
   "source": [
    "l1=[] #list for element divisible by 3\n",
    "l2=[] #list for element not divisible by 3\n",
    "\n",
    "for i in l :\n",
    "    if i%3 == 0 :\n",
    "         l1.append(i)\n",
    "    else :\n",
    "         l2.append(i)"
   ]
  },
  {
   "cell_type": "code",
   "execution_count": 6,
   "id": "d9aceec3-9bb6-4433-b68a-d086345e1113",
   "metadata": {},
   "outputs": [
    {
     "data": {
      "text/plain": [
       "[3, 6, 9, 12, 15, 18, 21, 24]"
      ]
     },
     "execution_count": 6,
     "metadata": {},
     "output_type": "execute_result"
    }
   ],
   "source": [
    "l1"
   ]
  },
  {
   "cell_type": "code",
   "execution_count": 7,
   "id": "8c769dab-54bd-4bf8-b295-745cfcdcbd83",
   "metadata": {},
   "outputs": [
    {
     "data": {
      "text/plain": [
       "[2, 4, 5, 7, 8, 10, 11, 13, 14, 16, 17, 19, 20, 22, 23, 25, 26]"
      ]
     },
     "execution_count": 7,
     "metadata": {},
     "output_type": "execute_result"
    }
   ],
   "source": [
    "l2"
   ]
  },
  {
   "cell_type": "code",
   "execution_count": 13,
   "id": "11ea1085-7a7d-4204-8037-0490670ddf28",
   "metadata": {},
   "outputs": [
    {
     "name": "stdin",
     "output_type": "stream",
     "text": [
      "enter the element: 24\n"
     ]
    },
    {
     "name": "stdout",
     "output_type": "stream",
     "text": [
      "Element is divisible by 3\n"
     ]
    }
   ],
   "source": [
    "i= int(input(\"enter the element:\"))\n",
    "i1=3\n",
    "\n",
    "if  i%i1 == 0 :\n",
    "    print(\"Element is divisible by 3\")\n",
    "else :\n",
    "    print(\"Element is not divisible by 3\")"
   ]
  },
  {
   "cell_type": "code",
   "execution_count": 14,
   "id": "2e026be7-f83a-4618-870c-ed640b28f73d",
   "metadata": {},
   "outputs": [
    {
     "name": "stdin",
     "output_type": "stream",
     "text": [
      "enter the element: 13\n"
     ]
    },
    {
     "name": "stdout",
     "output_type": "stream",
     "text": [
      "Element is not divisible by 3\n"
     ]
    }
   ],
   "source": [
    "i= int(input(\"enter the element:\"))\n",
    "i1=3\n",
    "\n",
    "if  i%i1 == 0 :\n",
    "    print(\"Element is divisible by 3\")\n",
    "else :\n",
    "    print(\"Element is not divisible by 3\")"
   ]
  },
  {
   "cell_type": "code",
   "execution_count": 18,
   "id": "5e69d4e3-124f-4f28-b54a-e1af44101f9c",
   "metadata": {},
   "outputs": [],
   "source": [
    "#Q7. What do you understand about mutable and immutable data types? Give examples for both showing this property.\n",
    "\n",
    "#A mutable object can be changed after it is created. Ex: list,set\n",
    "#An immutable object cannot be changed after it is created. Ex: string, tuple\n",
    "\n",
    "l=[]"
   ]
  },
  {
   "cell_type": "code",
   "execution_count": 20,
   "id": "d18007f9-ec07-475c-b52e-661936bd23da",
   "metadata": {},
   "outputs": [
    {
     "data": {
      "text/plain": [
       "list"
      ]
     },
     "execution_count": 20,
     "metadata": {},
     "output_type": "execute_result"
    }
   ],
   "source": [
    "type(l)"
   ]
  },
  {
   "cell_type": "code",
   "execution_count": 21,
   "id": "4602a5bf-2bb6-4a41-bc98-8e93268b8dcf",
   "metadata": {},
   "outputs": [],
   "source": [
    "l=[34,2,\"ayu\", 45.3, True, \"ayushi\",3+4j]"
   ]
  },
  {
   "cell_type": "code",
   "execution_count": 23,
   "id": "b2d6a3c3-2ea9-4702-807a-1b390474fc96",
   "metadata": {},
   "outputs": [],
   "source": [
    "l[1]=200"
   ]
  },
  {
   "cell_type": "code",
   "execution_count": 24,
   "id": "2bc994e3-ddd5-419d-971b-6a4fd487d3cf",
   "metadata": {},
   "outputs": [
    {
     "data": {
      "text/plain": [
       "[34, 200, 'ayu', 45.3, True, 'ayushi', (3+4j)]"
      ]
     },
     "execution_count": 24,
     "metadata": {},
     "output_type": "execute_result"
    }
   ],
   "source": [
    "l"
   ]
  },
  {
   "cell_type": "code",
   "execution_count": 25,
   "id": "0fc06af1-330b-4da3-a835-e6c3801ed3f9",
   "metadata": {},
   "outputs": [
    {
     "data": {
      "text/plain": [
       "[34, 200, 'ayu', 45.3, True, 'ayushi', (3+4j)]"
      ]
     },
     "execution_count": 25,
     "metadata": {},
     "output_type": "execute_result"
    }
   ],
   "source": [
    "l"
   ]
  },
  {
   "cell_type": "code",
   "execution_count": 26,
   "id": "04b149ac-51cc-46f4-b3c3-cb0bec26737a",
   "metadata": {},
   "outputs": [],
   "source": [
    "s=\" \""
   ]
  },
  {
   "cell_type": "code",
   "execution_count": 27,
   "id": "76a7df95-1fea-40bd-b3ba-32e12194d26f",
   "metadata": {},
   "outputs": [
    {
     "data": {
      "text/plain": [
       "str"
      ]
     },
     "execution_count": 27,
     "metadata": {},
     "output_type": "execute_result"
    }
   ],
   "source": [
    "type(s)"
   ]
  },
  {
   "cell_type": "code",
   "execution_count": 28,
   "id": "1600ebb6-adad-4747-a4c7-bf742c2042cb",
   "metadata": {},
   "outputs": [],
   "source": [
    "s= \"ayushi\""
   ]
  },
  {
   "cell_type": "code",
   "execution_count": 30,
   "id": "7a5ab3ff-3e66-41b4-8da8-3ec9988676e4",
   "metadata": {},
   "outputs": [
    {
     "ename": "TypeError",
     "evalue": "'str' object does not support item assignment",
     "output_type": "error",
     "traceback": [
      "\u001b[0;31m---------------------------------------------------------------------------\u001b[0m",
      "\u001b[0;31mTypeError\u001b[0m                                 Traceback (most recent call last)",
      "Cell \u001b[0;32mIn[30], line 1\u001b[0m\n\u001b[0;32m----> 1\u001b[0m \u001b[43ms\u001b[49m\u001b[43m[\u001b[49m\u001b[38;5;241;43m2\u001b[39;49m\u001b[43m]\u001b[49m\u001b[38;5;241m=\u001b[39mi\n",
      "\u001b[0;31mTypeError\u001b[0m: 'str' object does not support item assignment"
     ]
    }
   ],
   "source": [
    "s[2]=i"
   ]
  },
  {
   "cell_type": "code",
   "execution_count": 31,
   "id": "b1212d32-9159-436f-b0b1-380306fa27cd",
   "metadata": {},
   "outputs": [],
   "source": [
    "t=()"
   ]
  },
  {
   "cell_type": "code",
   "execution_count": 32,
   "id": "5c7ed744-e110-47c1-b1cd-e161a67a6047",
   "metadata": {},
   "outputs": [
    {
     "data": {
      "text/plain": [
       "tuple"
      ]
     },
     "execution_count": 32,
     "metadata": {},
     "output_type": "execute_result"
    }
   ],
   "source": [
    "type(t)"
   ]
  },
  {
   "cell_type": "code",
   "execution_count": 33,
   "id": "926376b0-2400-4693-a393-2deb105018de",
   "metadata": {},
   "outputs": [],
   "source": [
    "t=(34,2,\"ayu\", 45.3, True, \"ayushi\",3+4j)"
   ]
  },
  {
   "cell_type": "code",
   "execution_count": 35,
   "id": "c6068a0c-f44c-4808-97b7-f6a494f162b3",
   "metadata": {},
   "outputs": [
    {
     "ename": "TypeError",
     "evalue": "'tuple' object does not support item assignment",
     "output_type": "error",
     "traceback": [
      "\u001b[0;31m---------------------------------------------------------------------------\u001b[0m",
      "\u001b[0;31mTypeError\u001b[0m                                 Traceback (most recent call last)",
      "Cell \u001b[0;32mIn[35], line 1\u001b[0m\n\u001b[0;32m----> 1\u001b[0m \u001b[43mt\u001b[49m\u001b[43m[\u001b[49m\u001b[38;5;241;43m1\u001b[39;49m\u001b[43m]\u001b[49m\u001b[38;5;241m=\u001b[39m\u001b[38;5;241m200\u001b[39m\n",
      "\u001b[0;31mTypeError\u001b[0m: 'tuple' object does not support item assignment"
     ]
    }
   ],
   "source": [
    "t[1]=200"
   ]
  },
  {
   "cell_type": "code",
   "execution_count": null,
   "id": "ebd68fbc-8314-416c-a3a5-275b77e622a5",
   "metadata": {},
   "outputs": [],
   "source": []
  }
 ],
 "metadata": {
  "kernelspec": {
   "display_name": "Python 3 (ipykernel)",
   "language": "python",
   "name": "python3"
  },
  "language_info": {
   "codemirror_mode": {
    "name": "ipython",
    "version": 3
   },
   "file_extension": ".py",
   "mimetype": "text/x-python",
   "name": "python",
   "nbconvert_exporter": "python",
   "pygments_lexer": "ipython3",
   "version": "3.10.8"
  }
 },
 "nbformat": 4,
 "nbformat_minor": 5
}
